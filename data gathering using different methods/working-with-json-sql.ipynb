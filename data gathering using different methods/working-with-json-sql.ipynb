{
 "cells": [
  {
   "cell_type": "code",
   "execution_count": 6,
   "id": "46c489c9-48bb-4669-9b1c-25c9c80f42ad",
   "metadata": {},
   "outputs": [],
   "source": [
    "import pandas as pd"
   ]
  },
  {
   "cell_type": "code",
   "execution_count": 16,
   "id": "0def4cb4-31be-43b8-b3d0-359e9493efac",
   "metadata": {},
   "outputs": [],
   "source": [
    "df = pd.read_json('lock.json')"
   ]
  },
  {
   "cell_type": "code",
   "execution_count": 24,
   "id": "5b517053-c5af-4c83-8890-0ce1e56a35d4",
   "metadata": {},
   "outputs": [],
   "source": [
    "# Working with SQL data\n",
    "# (xamp ke use se database bna ke sql data import karne ke baad)\n",
    "# ! pip install msql.connector\n",
    "# import mysql.connector\n",
    "# conn = msql.connector.connect(host='localhost',user'root,password='',databse='world')\n",
    "# pd.read_sql_query(\"SELECT * FROM city\",conn)\n",
    "# pd.read_sql_query(\"SELECT * FROM city WHERE CountryCode LIKE 'USA',conn) (yaha filter kar rahe hai country code ke according)\n"
   ]
  },
  {
   "cell_type": "code",
   "execution_count": null,
   "id": "6726853e-740b-4243-acdc-d089d5cec651",
   "metadata": {},
   "outputs": [],
   "source": []
  }
 ],
 "metadata": {
  "kernelspec": {
   "display_name": "Python 3 (ipykernel)",
   "language": "python",
   "name": "python3"
  },
  "language_info": {
   "codemirror_mode": {
    "name": "ipython",
    "version": 3
   },
   "file_extension": ".py",
   "mimetype": "text/x-python",
   "name": "python",
   "nbconvert_exporter": "python",
   "pygments_lexer": "ipython3",
   "version": "3.12.7"
  }
 },
 "nbformat": 4,
 "nbformat_minor": 5
}
