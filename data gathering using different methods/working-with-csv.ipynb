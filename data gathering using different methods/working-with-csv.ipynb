{
 "cells": [
  {
   "cell_type": "code",
   "execution_count": null,
   "id": "08bbeb9f-596d-4b86-828c-81c09c79d5f2",
   "metadata": {},
   "outputs": [],
   "source": [
    "import pandas as pd"
   ]
  },
  {
   "cell_type": "code",
   "execution_count": null,
   "id": "6a09787e-f18f-42c1-8483-0a8135d719b7",
   "metadata": {},
   "outputs": [],
   "source": [
    "#opening a local csv file\n",
    "df = pd.read_csv('std.csv')"
   ]
  },
  {
   "cell_type": "code",
   "execution_count": null,
   "id": "90fed809-f40a-4d6d-b752-ff894303275f",
   "metadata": {},
   "outputs": [],
   "source": [
    "# opening a csv file from an url\n",
    "# import pandas as pd\n",
    "# from io import StringIO\n",
    "# import requests\n",
    "\n",
    "# url = \"your_csv_url_here\"\n",
    "# headers = {\"User-Agent\": \"Your User-Agent String\"}\n",
    "# req = requests.get(url, headers=headers)\n",
    "# data = StringIO(req.text)\n",
    "\n",
    "# df = pd.read_csv(data)\n"
   ]
  },
  {
   "cell_type": "code",
   "execution_count": null,
   "id": "397ca67a-4f95-4a5b-a576-db0a6ee994d9",
   "metadata": {},
   "outputs": [],
   "source": [
    "# Sep Parameters\n",
    "#.tsv(tabular saprated vallues) (use below code for .tsv file)\n",
    "# pd.csv_read('zomato.csv', set'/t')\n",
    "# pd.csv_read('zomato.csv', set'/t',name=['sno','name','rating','votes'])\n",
    "\n",
    "# index_col parameter\n",
    "# pd.csv_read('zomato.csv', index_col='enrollment')\n",
    "\n",
    "#Header Parametes\n",
    "# pd.csv_read('zomato.csv', headers=1)\n",
    "\n",
    "# use_cols parameters(mujhe jo column chahiye uska nam de dunga)\n",
    "# pd.csv_read('zomato.csv',usecols=['enrollment','gender','marks'])\n",
    "\n",
    "#Squeeze parameters(jab ek hi column chahiye hota hai ispe df series ban jata hai)\n",
    "# pd.csv_read('zomato.csv',usecols=['gender'] ,squeeze=True)\n",
    "\n",
    "#skiprows/nrows Paramete\n",
    "# pd.csv_read('zomato.csv', skiprows=[0,5]) (jo row nhi chahiye uski value dedo)\n",
    "# pd.csv_read('zomato.csv', nrows=100) (100 row hi dekhega)\n",
    "\n",
    "#Encoding Parameter(UnicodeDecodeError)\n",
    "# pd.csv_read('zomato.csv', encoding= 'latin-1')\n",
    "\n",
    "#Skip bad lines (parser error (Expected 8 fileds lines 6452, saw 9))\n",
    "# pd.csv_read('zomato.csv', encoding= 'latin-1',error_bad_lines=False)\n",
    "\n",
    "# dtype(datatype) parameters\n",
    "# pd.read_csv('aug_train.csv',dtype={'column ka nam':int}).info()\n",
    "\n",
    "# Handling dates\n",
    "#(padas me object as string consider hote hai)\n",
    "# pd.read_csv('aug_train.csv',parse_dates=['date']).info()  (dates me badal sakte hai hai)\n",
    "\n",
    "# Convertors\n",
    "# def rename(name):\n",
    "#     if name ==\"Royal challengers Bangalore\":\n",
    "#         return \"RCB\"\n",
    "#         else:\n",
    "#         return name\n",
    "# pd.read_csv('ipl.csv', converters={'team1:rename'})\n",
    "\n",
    "# na_values(missing values) parameters\n",
    "# pd.read_csv('train.csv',na_values=['Male','aur value likh sakte ho'])\n",
    "\n",
    "#Loading a huge datasey=t in chunks\n",
    "# dfs=pd.read_csv('aug_train.csv',chunksize=5000)\n",
    "# for chunks in dfs:\n",
    "#     print(chunk.shape)"
   ]
  },
  {
   "cell_type": "markdown",
   "id": "a965eba9-8cec-4238-ab3c-d1face0a748d",
   "metadata": {},
   "source": [
    "<!-- *** for tsv(tabular saprated value) ***\n",
    "# pd.read_csv('add path') , sep = '/t'\n",
    "agar row column thik na aaye to use below code\n",
    "# pd.read_csv('add path') , sep = '/t',names=['sno','name','release_year','rating'] -->"
   ]
  },
  {
   "cell_type": "markdown",
   "id": "200c521e-2f3f-44ae-b3c8-9e32fb0c5079",
   "metadata": {},
   "source": [
    "<!-- # Index_col parameter\n",
    "pd.read_csv('path.csv',index_col='indexname') -->"
   ]
  },
  {
   "cell_type": "markdown",
   "id": "1fedc8e7-a3c1-4980-aab9-dafc84f18dff",
   "metadata": {},
   "source": [
    "<!-- # Header paramete\n",
    "pd.read_csv('test.csv', header=1) -->"
   ]
  },
  {
   "cell_type": "markdown",
   "id": "727fd9c3-72f4-42bb-9df4-bf691cba3c6b",
   "metadata": {},
   "source": [
    "<!-- pd.read_csv('std.csv',usecols=['gender','enrollment'])\n",
    "# jojo column chahiye uska nam likh do list me -->"
   ]
  },
  {
   "cell_type": "markdown",
   "id": "de15d766-500b-4551-875e-9e031c800b86",
   "metadata": {},
   "source": [
    "<!-- # squeeze parameter\n",
    "pd.read_csv('std',usecols=['gender'],squeeze=True) -->"
   ]
  },
  {
   "cell_type": "markdown",
   "id": "fe56978b-2e7e-4869-bc06-54d1a104e12d",
   "metadata": {},
   "source": [
    "<!-- # Skiprows/n rows Parameter\n",
    "pd.read_csv('aug.csv', skiprows=[0,2])\n",
    "pd.read_csv('aug.csv', nrows=100) -->"
   ]
  },
  {
   "cell_type": "markdown",
   "id": "dfbc5805-b0af-4989-a907-536cc148ff2c",
   "metadata": {},
   "source": [
    "<!-- # Encoding parameter\n",
    "pd.csv_read('zomato.csv', encoding='latin-1')\n",
    "# skip bad lines\n",
    "pd.csv_read('zomato.csv',sep=';' encoding='latin-1',error_bad_lines=False)(use this code when u saw some where parser error)\n",
    "# dtypes(datatypes) parameter\n",
    "pd.csv_read('zomato.csv', dtype={'target':int}).info()\n",
    "# Handling dates\n",
    "pd.csv_read('zomato.csv', parser_dates=['date']).info()\n",
    "# Convertors\n",
    "def rename(name):\n",
    "  if name==\"Royal Challengers Bangalors\":\n",
    "     return \"RCB\"\n",
    "  else:\n",
    "  return name\n",
    "\n",
    "  pd.read_csv ('IPL Matches 2008-2020.csv', converters={'team1':rename})\n",
    "\n",
    "# na_values parametes\n",
    "pd.csv_read('zomato.csv', na_values=['male','aur v add kar sakte hai'])\n",
    "# Loading a huge dataset in chunks\\\n",
    "dfs = pd.csv_read('zomato.csv', chunksize=5000)\n",
    "for chunks in dfs:\n",
    "       print(chunk.shape) -->"
   ]
  }
 ],
 "metadata": {
  "kernelspec": {
   "display_name": "Python 3 (ipykernel)",
   "language": "python",
   "name": "python3"
  },
  "language_info": {
   "codemirror_mode": {
    "name": "ipython",
    "version": 3
   },
   "file_extension": ".py",
   "mimetype": "text/x-python",
   "name": "python",
   "nbconvert_exporter": "python",
   "pygments_lexer": "ipython3",
   "version": "3.12.7"
  }
 },
 "nbformat": 4,
 "nbformat_minor": 5
}
